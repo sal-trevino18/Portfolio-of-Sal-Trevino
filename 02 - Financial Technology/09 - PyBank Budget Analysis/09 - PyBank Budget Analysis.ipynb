{
 "cells": [
  {
   "cell_type": "markdown",
   "id": "836f2254-5ecb-41e5-bdd7-9a57a2c05390",
   "metadata": {},
   "source": [
    "# PyBank Budget Analysis"
   ]
  },
  {
   "cell_type": "markdown",
   "id": "829d022b-735a-43a3-bdb5-f21304f22176",
   "metadata": {},
   "source": [
    "---"
   ]
  },
  {
   "cell_type": "code",
   "execution_count": 1,
   "id": "017bf52d-40e1-4ad5-85a0-a351491d7cbf",
   "metadata": {},
   "outputs": [],
   "source": [
    "# Importing necessary libraries to read csv file\n",
    "import os\n",
    "import pandas as pd\n",
    "import csv\n",
    "from pathlib import Path"
   ]
  },
  {
   "cell_type": "code",
   "execution_count": 2,
   "id": "027ca9dc-a01a-4e65-9be2-ea885003b37f",
   "metadata": {},
   "outputs": [],
   "source": [
    "# Setting the path for the csv file\n",
    "csvpath = os.path.join(\"..\", \"01 - PyBank Budget Analysis\", \"Resources\", \"budget_data.csv\")"
   ]
  },
  {
   "cell_type": "code",
   "execution_count": 3,
   "id": "346eff6f-4467-4517-baa2-77083211d85a",
   "metadata": {},
   "outputs": [],
   "source": [
    "# Reading in the CSV as a DataFrame\n",
    "budget_data = pd.read_csv(csvpath)"
   ]
  },
  {
   "cell_type": "code",
   "execution_count": 4,
   "id": "64c71454-3d8b-4ea2-8db9-2bd9da445fa6",
   "metadata": {},
   "outputs": [
    {
     "name": "stdout",
     "output_type": "stream",
     "text": [
      "Financial Analysis\n",
      "----------------------------\n"
     ]
    }
   ],
   "source": [
    "# Titling data summary.\n",
    "print(\"Financial Analysis\")\n",
    "print(\"----------------------------\")"
   ]
  },
  {
   "cell_type": "code",
   "execution_count": 5,
   "id": "8a046460-a7b4-432e-a696-1eb33a3e645b",
   "metadata": {},
   "outputs": [
    {
     "name": "stdout",
     "output_type": "stream",
     "text": [
      "Total Months: 86\n"
     ]
    }
   ],
   "source": [
    "# Total Number of Months included in dataset.\n",
    "total_number_months = budget_data['Date'].count()\n",
    "print(f\"Total Months: {total_number_months}\")"
   ]
  },
  {
   "cell_type": "code",
   "execution_count": 6,
   "id": "344c5c3f-d1cf-471f-b507-f55c50781bb7",
   "metadata": {},
   "outputs": [
    {
     "name": "stdout",
     "output_type": "stream",
     "text": [
      "Total: $38382578\n"
     ]
    }
   ],
   "source": [
    "# Net Total Amount of Profit/Losses over entire period.\n",
    "net_total_amount_profit_losses = budget_data['Profit/Losses'].sum()\n",
    "print(f\"Total: ${net_total_amount_profit_losses}\")"
   ]
  },
  {
   "cell_type": "code",
   "execution_count": 7,
   "id": "932c458c-476e-46f9-a703-99cea921181e",
   "metadata": {},
   "outputs": [],
   "source": [
    "# Average of Changes in Profit/Losses over entire period. Subtracting present from previous date. \n",
    "change_profit_losses = pd.DataFrame(budget_data['Profit/Losses'] - budget_data['Profit/Losses'].shift(1)).rename(columns = {'Profit/Losses':'Change'})"
   ]
  },
  {
   "cell_type": "code",
   "execution_count": 8,
   "id": "e2462491-2b96-4e1c-b074-4166e0f2d625",
   "metadata": {},
   "outputs": [],
   "source": [
    "# Finding average over entire period.\n",
    "average_change_profit_losses = change_profit_losses.mean(axis='index')"
   ]
  },
  {
   "cell_type": "code",
   "execution_count": 9,
   "id": "1c2821e6-de29-4715-b5ac-551bc1ad2b85",
   "metadata": {},
   "outputs": [],
   "source": [
    "# Renaming column label (index).\n",
    "average_change_profit_losses.rename(index={\"Change\": \"Average Change: $\"}, inplace = True)\n",
    "avg_profits = round(average_change_profit_losses, 2).to_string()"
   ]
  },
  {
   "cell_type": "code",
   "execution_count": 10,
   "id": "e2fb6c6b-4130-4a64-89be-cd7d4e9a1e02",
   "metadata": {},
   "outputs": [
    {
     "data": {
      "text/html": [
       "<div>\n",
       "<style scoped>\n",
       "    .dataframe tbody tr th:only-of-type {\n",
       "        vertical-align: middle;\n",
       "    }\n",
       "\n",
       "    .dataframe tbody tr th {\n",
       "        vertical-align: top;\n",
       "    }\n",
       "\n",
       "    .dataframe thead th {\n",
       "        text-align: right;\n",
       "    }\n",
       "</style>\n",
       "<table border=\"1\" class=\"dataframe\">\n",
       "  <thead>\n",
       "    <tr style=\"text-align: right;\">\n",
       "      <th></th>\n",
       "      <th>Date</th>\n",
       "      <th>Change</th>\n",
       "    </tr>\n",
       "  </thead>\n",
       "  <tbody>\n",
       "    <tr>\n",
       "      <th>0</th>\n",
       "      <td>Jan-10</td>\n",
       "      <td>NaN</td>\n",
       "    </tr>\n",
       "    <tr>\n",
       "      <th>1</th>\n",
       "      <td>Feb-10</td>\n",
       "      <td>116771.0</td>\n",
       "    </tr>\n",
       "    <tr>\n",
       "      <th>2</th>\n",
       "      <td>Mar-10</td>\n",
       "      <td>-662642.0</td>\n",
       "    </tr>\n",
       "    <tr>\n",
       "      <th>3</th>\n",
       "      <td>Apr-10</td>\n",
       "      <td>-391430.0</td>\n",
       "    </tr>\n",
       "    <tr>\n",
       "      <th>4</th>\n",
       "      <td>May-10</td>\n",
       "      <td>379920.0</td>\n",
       "    </tr>\n",
       "  </tbody>\n",
       "</table>\n",
       "</div>"
      ],
      "text/plain": [
       "     Date    Change\n",
       "0  Jan-10       NaN\n",
       "1  Feb-10  116771.0\n",
       "2  Mar-10 -662642.0\n",
       "3  Apr-10 -391430.0\n",
       "4  May-10  379920.0"
      ]
     },
     "execution_count": 10,
     "metadata": {},
     "output_type": "execute_result"
    }
   ],
   "source": [
    "# Merging Budget Data with new Change in Profit/Loss Dataframe.\n",
    "change_profit_date = pd.merge(budget_data, change_profit_losses, left_index=True, right_index=True)\n",
    "change = change_profit_date.drop(columns = [\"Profit/Losses\"])\n",
    "change.head()"
   ]
  },
  {
   "cell_type": "code",
   "execution_count": 11,
   "id": "65c1b9af-703c-4baf-a506-4400e0438f30",
   "metadata": {},
   "outputs": [
    {
     "name": "stdout",
     "output_type": "stream",
     "text": [
      "Greatest Increase in Profits: $1926159.0 on Feb-12\n"
     ]
    }
   ],
   "source": [
    "# Greatest Increase in Profits (Date & Amount) over entire period.\n",
    "maximum_change = change['Change'].max()\n",
    "maximum_date = change.iloc[change['Change'].idxmax()][0]\n",
    "print(f\"Greatest Increase in Profits: ${maximum_change} on {maximum_date}\")"
   ]
  },
  {
   "cell_type": "code",
   "execution_count": 12,
   "id": "a418351a-de17-4d91-8475-b595d6a0cc5f",
   "metadata": {},
   "outputs": [
    {
     "name": "stdout",
     "output_type": "stream",
     "text": [
      "Greatest Decrease in Profits: $-2196167.0 on Sep-13\n"
     ]
    }
   ],
   "source": [
    "# Greatest Increase in Profits (Date & Amount) over entire period.\n",
    "minimum_change = change['Change'].min()\n",
    "minimum_date = change.iloc[change['Change'].idxmin()][0]\n",
    "print(f\"Greatest Decrease in Profits: ${minimum_change} on {minimum_date}\")"
   ]
  },
  {
   "cell_type": "code",
   "execution_count": 13,
   "id": "7e7ab3f0-f363-4e4f-8c80-8514f16865b9",
   "metadata": {},
   "outputs": [
    {
     "name": "stdout",
     "output_type": "stream",
     "text": [
      "Financial Analysis\n",
      "\n",
      "----------------------------\n",
      "\n",
      "Total Months: 86\n",
      "\n",
      "Total: $38382578\n",
      "\n",
      "Average Change: $   -2315.12\n",
      "\n",
      "Greatest Increase in Profits: $1926159.0 on Feb-12\n",
      "\n",
      "Greatest Decrease in Profits: $-2196167.0 on Sep-13\n",
      "\n"
     ]
    }
   ],
   "source": [
    "print(f\"Financial Analysis\\n\")\n",
    "print(f\"----------------------------\\n\")\n",
    "print(f\"Total Months: {total_number_months}\\n\")\n",
    "print(f\"Total: ${net_total_amount_profit_losses}\\n\")\n",
    "print(f\"{avg_profits}\\n\")\n",
    "print(f\"Greatest Increase in Profits: ${maximum_change} on {maximum_date}\\n\")\n",
    "print(f\"Greatest Decrease in Profits: ${minimum_change} on {minimum_date}\\n\")"
   ]
  },
  {
   "cell_type": "code",
   "execution_count": 14,
   "id": "ad30bb5b-4a0d-4af4-bfcb-fc9ddbc752da",
   "metadata": {},
   "outputs": [],
   "source": [
    "# Export results to txt file\n",
    "file_to_output = Path(\"Pybank Budget Analysis.txt\")\n",
    "with open (file_to_output, \"w\") as txt_file:\n",
    "    txt_file.write(f\"Financial Analysis\\n\")\n",
    "    txt_file.write(f\"----------------------------\\n\")\n",
    "    txt_file.write(f\"Total Months: {total_number_months}\\n\")\n",
    "    txt_file.write(f\"Total: ${net_total_amount_profit_losses}\\n\")\n",
    "    txt_file.write(f\"{avg_profits}\\n\")\n",
    "    txt_file.write(f\"Greatest Increase in Profits: ${maximum_change} on {maximum_date}\\n\")\n",
    "    txt_file.write(f\"Greatest Decrease in Profits: ${minimum_change} on {minimum_date}\\n\")"
   ]
  }
 ],
 "metadata": {
  "kernelspec": {
   "display_name": "Python 3 (ipykernel)",
   "language": "python",
   "name": "python3"
  },
  "language_info": {
   "codemirror_mode": {
    "name": "ipython",
    "version": 3
   },
   "file_extension": ".py",
   "mimetype": "text/x-python",
   "name": "python",
   "nbconvert_exporter": "python",
   "pygments_lexer": "ipython3",
   "version": "3.8.5"
  }
 },
 "nbformat": 4,
 "nbformat_minor": 5
}
